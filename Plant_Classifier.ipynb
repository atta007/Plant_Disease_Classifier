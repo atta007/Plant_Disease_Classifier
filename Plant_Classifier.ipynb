{
  "nbformat": 4,
  "nbformat_minor": 0,
  "metadata": {
    "colab": {
      "name": "Plant_Classifier.ipynb",
      "provenance": [],
      "collapsed_sections": [],
      "include_colab_link": true
    },
    "kernelspec": {
      "name": "python3",
      "display_name": "Python 3"
    },
    "accelerator": "GPU"
  },
  "cells": [
    {
      "cell_type": "markdown",
      "metadata": {
        "id": "view-in-github",
        "colab_type": "text"
      },
      "source": [
        "<a href=\"https://colab.research.google.com/github/atta007/Plant_Disease_Classifier/blob/master/Plant_Classifier.ipynb\" target=\"_parent\"><img src=\"https://colab.research.google.com/assets/colab-badge.svg\" alt=\"Open In Colab\"/></a>"
      ]
    },
    {
      "cell_type": "code",
      "metadata": {
        "id": "oESb8w5m1Y38",
        "colab_type": "code",
        "outputId": "e808fbe3-3916-446a-fa77-7e5f6c8ac50c",
        "colab": {
          "base_uri": "https://localhost:8080/",
          "height": 35
        }
      },
      "source": [
        "from keras.preprocessing.image import ImageDataGenerator\n",
        "from keras.models import Sequential\n",
        "from keras.layers import Conv2D, MaxPooling2D\n",
        "from keras.layers import Activation, Dropout, Flatten, Dense\n",
        "from keras.layers import Convolution2D, MaxPooling2D, ZeroPadding2D\n",
        "\n",
        "\n",
        "#Importing Libraries for Deep learning Model "
      ],
      "execution_count": 0,
      "outputs": [
        {
          "output_type": "stream",
          "text": [
            "Using TensorFlow backend.\n"
          ],
          "name": "stderr"
        }
      ]
    },
    {
      "cell_type": "code",
      "metadata": {
        "id": "X1CkRs_GLM9Q",
        "colab_type": "code",
        "outputId": "7032d02b-3998-475a-a5ca-2008cf89ebcf",
        "colab": {
          "base_uri": "https://localhost:8080/",
          "height": 90
        }
      },
      "source": [
        "# Download the dataset and unzip de folder\n",
        "!gdown https://zenodo.org/record/1204914/files/plantvillage_deeplearning_paper_dataset.7z?download=1\n",
        "  \n",
        "#Downloading Dataset   "
      ],
      "execution_count": 0,
      "outputs": [
        {
          "output_type": "stream",
          "text": [
            "Downloading...\n",
            "From: https://zenodo.org/record/1204914/files/plantvillage_deeplearning_paper_dataset.7z?download=1\n",
            "To: /content/plantvillage_deeplearning_paper_dataset.7z?download=1\n",
            "100% 824M/824M [00:14<00:00, 56.8MB/s]\n"
          ],
          "name": "stdout"
        }
      ]
    },
    {
      "cell_type": "code",
      "metadata": {
        "id": "jcGXd5SXLQLN",
        "colab_type": "code",
        "colab": {}
      },
      "source": [
        "!tar -xvf PlantVillage.tar.gz\n",
        "\n",
        "\n",
        "#extracting Downloaded Dataset of Plants images "
      ],
      "execution_count": 0,
      "outputs": []
    },
    {
      "cell_type": "code",
      "metadata": {
        "id": "unaYuP8c_AYS",
        "colab_type": "code",
        "colab": {}
      },
      "source": [
        ""
      ],
      "execution_count": 0,
      "outputs": []
    },
    {
      "cell_type": "code",
      "metadata": {
        "id": "oF8RS_uHLyWH",
        "colab_type": "code",
        "outputId": "72e9a0d8-29d3-46fd-8471-f163d5d35326",
        "colab": {
          "base_uri": "https://localhost:8080/",
          "height": 35
        }
      },
      "source": [
        "data_dir = '/content/PlantVillage'   #accessing the directory of Dataset\n",
        "train_dir = data_dir + '/train'      # spliting the \n",
        "valid_dir = data_dir + '/val'\n",
        "\n",
        "\n",
        "# dimensions of our images.\n",
        "img_width, img_height = 150, 150\n",
        "input_shape= (3, img_width, img_height)\n",
        "\n",
        "epochs = 200\n",
        "batch_size = 100\n",
        "\n",
        "nb_train_samples = 4000\n",
        "nb_validation_samples =  1000\n",
        "\n",
        "#if K.image_data_format() == 'channels_first':\n",
        "    #input_shape = (3, img_width, img_height)\n",
        "#else:\n",
        "  #input_shape = (img_width, img_height, 3)\n",
        "  \n",
        "print(input_shape) "
      ],
      "execution_count": 0,
      "outputs": [
        {
          "output_type": "stream",
          "text": [
            "(3, 150, 150)\n"
          ],
          "name": "stdout"
        }
      ]
    },
    {
      "cell_type": "code",
      "metadata": {
        "id": "HSrw2FY3O67L",
        "colab_type": "code",
        "colab": {}
      },
      "source": [
        "from keras import optimizers\n",
        "\n",
        "model = Sequential()\n",
        "model.add(Conv2D(32, kernel_size=(5, 5),activation='relu',input_shape=(150,150,3)))\n",
        "model.add(MaxPooling2D(2,2))\n",
        "\n",
        "model.add(Conv2D(64, (3, 3), activation='relu'))\n",
        "model.add(MaxPooling2D(2,2))\n",
        "\n",
        "\n",
        "\n",
        "model.add(Conv2D(128, (2, 2), activation='relu'))\n",
        "model.add(MaxPooling2D(2,2))\n",
        "\n",
        "\n",
        "model.add(MaxPooling2D(pool_size=(2, 2)))\n",
        "model.add(Dropout(0.25))\n",
        "\n",
        "model.add (Conv2D(256, (1,1), activation ='relu'))\n",
        "model.add(MaxPooling2D(1,1))\n",
        "\n",
        "\n",
        "\n",
        "\n",
        "\n",
        "model.add(Flatten())\n",
        "\n",
        "model.add(Dense(1024, activation='relu'))\n",
        "model.add(Dropout(0.5))\n",
        "\n",
        "model.add(Dense(39, activation='softmax'))\n",
        "\n",
        "\n",
        "#sgd = optimizers.SGD(lr=0.001, decay=1e-6, momentum=0.9, nesterov=True)\n",
        "\n",
        "from keras.metrics import categorical_accuracy\n",
        "model.compile(loss='categorical_crossentropy',\n",
        "              optimizer='Adam',\n",
        "             metrics=['accuracy'])\n",
        "    \n"
      ],
      "execution_count": 0,
      "outputs": []
    },
    {
      "cell_type": "code",
      "metadata": {
        "id": "z3ZrkwQnW_kS",
        "colab_type": "code",
        "outputId": "1916b565-abba-41d1-f242-d57abf8c6e90",
        "colab": {
          "base_uri": "https://localhost:8080/",
          "height": 660
        }
      },
      "source": [
        "model.summary()"
      ],
      "execution_count": 0,
      "outputs": [
        {
          "output_type": "stream",
          "text": [
            "_________________________________________________________________\n",
            "Layer (type)                 Output Shape              Param #   \n",
            "=================================================================\n",
            "conv2d_5 (Conv2D)            (None, 146, 146, 32)      2432      \n",
            "_________________________________________________________________\n",
            "max_pooling2d_6 (MaxPooling2 (None, 73, 73, 32)        0         \n",
            "_________________________________________________________________\n",
            "conv2d_6 (Conv2D)            (None, 71, 71, 64)        18496     \n",
            "_________________________________________________________________\n",
            "max_pooling2d_7 (MaxPooling2 (None, 35, 35, 64)        0         \n",
            "_________________________________________________________________\n",
            "conv2d_7 (Conv2D)            (None, 34, 34, 128)       32896     \n",
            "_________________________________________________________________\n",
            "max_pooling2d_8 (MaxPooling2 (None, 17, 17, 128)       0         \n",
            "_________________________________________________________________\n",
            "max_pooling2d_9 (MaxPooling2 (None, 8, 8, 128)         0         \n",
            "_________________________________________________________________\n",
            "dropout_3 (Dropout)          (None, 8, 8, 128)         0         \n",
            "_________________________________________________________________\n",
            "conv2d_8 (Conv2D)            (None, 8, 8, 256)         33024     \n",
            "_________________________________________________________________\n",
            "max_pooling2d_10 (MaxPooling (None, 8, 8, 256)         0         \n",
            "_________________________________________________________________\n",
            "flatten_2 (Flatten)          (None, 16384)             0         \n",
            "_________________________________________________________________\n",
            "dense_3 (Dense)              (None, 1024)              16778240  \n",
            "_________________________________________________________________\n",
            "dropout_4 (Dropout)          (None, 1024)              0         \n",
            "_________________________________________________________________\n",
            "dense_4 (Dense)              (None, 39)                39975     \n",
            "=================================================================\n",
            "Total params: 16,905,063\n",
            "Trainable params: 16,905,063\n",
            "Non-trainable params: 0\n",
            "_________________________________________________________________\n"
          ],
          "name": "stdout"
        }
      ]
    },
    {
      "cell_type": "code",
      "metadata": {
        "id": "7VsFp_D9XBs7",
        "colab_type": "code",
        "colab": {}
      },
      "source": [
        "# this is the augmentation configuration we will use for training\n",
        "train_datagen = ImageDataGenerator(\n",
        "    rescale=1./255,\n",
        "    shear_range=0.2,\n",
        "    zoom_range=0.4,\n",
        "    horizontal_flip=True)\n",
        "\n",
        "# this is the augmentation configuration we will use for testing:\n",
        "# only rescaling\n",
        "test_datagen = ImageDataGenerator(rescale=1. / 255)\n",
        "\n",
        "\n",
        "\n"
      ],
      "execution_count": 0,
      "outputs": []
    },
    {
      "cell_type": "code",
      "metadata": {
        "id": "YZzslxtKXRPH",
        "colab_type": "code",
        "outputId": "fffbcc65-bc7d-48f2-dda4-0c6c1ef9eaa3",
        "colab": {
          "base_uri": "https://localhost:8080/",
          "height": 92
        }
      },
      "source": [
        "# this is the augmentation configuration we will use for testing:\n",
        "# only rescaling\n",
        "test_datagen = ImageDataGenerator(rescale=1. / 255)\n",
        "\n",
        "train_generator = train_datagen.flow_from_directory(\n",
        "    train_dir,\n",
        "    target_size=(img_width, img_height),\n",
        "    batch_size=batch_size,\n",
        "    class_mode='categorical',\n",
        "    shuffle=True)\n",
        "\n",
        "#print(train_generator.class_indices)\n",
        "\n",
        "validation_generator = test_datagen.flow_from_directory(\n",
        "    valid_dir,\n",
        "    target_size=(img_width, img_height),\n",
        "    batch_size=batch_size,\n",
        "    class_mode='categorical',\n",
        "shuffle=True)\n",
        "\n",
        "#display Data from generators\n",
        "#next(train_generator)\n",
        "\n",
        "\n",
        "#per = np.random.permutation(train_generator.n)\n",
        "#train_generator.index_array = per \n",
        "#classes = train_generator.classes[per]\n",
        "\n",
        "#print(classes[1])\n",
        "\n",
        "\n",
        "label_map = (train_generator.class_indices)\n",
        "print(label_map)"
      ],
      "execution_count": 0,
      "outputs": [
        {
          "output_type": "stream",
          "text": [
            "Found 44016 images belonging to 39 classes.\n",
            "Found 11004 images belonging to 39 classes.\n",
            "{'Apple___Apple_scab': 0, 'Apple___Black_rot': 1, 'Apple___Cedar_apple_rust': 2, 'Apple___healthy': 3, 'Blueberry___healthy': 4, 'Cherry_(including_sour)___Powdery_mildew': 5, 'Cherry_(including_sour)___healthy': 6, 'Corn_(maize)___Cercospora_leaf_spot Gray_leaf_spot': 7, 'Corn_(maize)___Common_rust_': 8, 'Corn_(maize)___Northern_Leaf_Blight': 9, 'Corn_(maize)___healthy': 10, 'Grape___Black_rot': 11, 'Grape___Esca_(Black_Measles)': 12, 'Grape___Leaf_blight_(Isariopsis_Leaf_Spot)': 13, 'Grape___healthy': 14, 'Orange___Haunglongbing_(Citrus_greening)': 15, 'Peach___Bacterial_spot': 16, 'Peach___healthy': 17, 'Pepper,_bell___Bacterial_spot': 18, 'Pepper,_bell___healthy': 19, 'Potato___Early_blight': 20, 'Potato___Late_blight': 21, 'Potato___healthy': 22, 'Raspberry___healthy': 23, 'Soybean___healthy': 24, 'Squash___Powdery_mildew': 25, 'Strawberry___Leaf_scorch': 26, 'Strawberry___healthy': 27, 'Tomato___Bacterial_spot': 28, 'Tomato___Early_blight': 29, 'Tomato___Late_blight': 30, 'Tomato___Leaf_Mold': 31, 'Tomato___Septoria_leaf_spot': 32, 'Tomato___Spider_mites Two-spotted_spider_mite': 33, 'Tomato___Target_Spot': 34, 'Tomato___Tomato_Yellow_Leaf_Curl_Virus': 35, 'Tomato___Tomato_mosaic_virus': 36, 'Tomato___healthy': 37, 'background': 38}\n"
          ],
          "name": "stdout"
        }
      ]
    },
    {
      "cell_type": "code",
      "metadata": {
        "id": "T0_yW1PC38AZ",
        "colab_type": "code",
        "outputId": "d402b0d5-1688-4d1a-c1a2-19bb74721cc8",
        "colab": {
          "base_uri": "https://localhost:8080/",
          "height": 72
        }
      },
      "source": [
        "from keras.callbacks import EarlyStopping\n",
        "from tensorboardcolab import *\n",
        "tbc = TensorBoardColab()\n",
        "es = EarlyStopping(monitor = \"val_loss\", patience = 10)"
      ],
      "execution_count": 0,
      "outputs": [
        {
          "output_type": "stream",
          "text": [
            "Wait for 8 seconds...\n",
            "TensorBoard link:\n",
            "https://50e63fca.ngrok.io\n"
          ],
          "name": "stdout"
        }
      ]
    },
    {
      "cell_type": "code",
      "metadata": {
        "id": "SUJCjEx9XWMx",
        "colab_type": "code",
        "outputId": "3b9adec8-3944-4fb9-abbb-cd478d80c923",
        "colab": {
          "base_uri": "https://localhost:8080/",
          "height": 1707
        }
      },
      "source": [
        "model.fit_generator(\n",
        "    train_generator,\n",
        "    steps_per_epoch=nb_train_samples // batch_size,\n",
        "    epochs=epochs,\n",
        "    validation_data=validation_generator,\n",
        "validation_steps=nb_validation_samples // batch_size,\n",
        "    callbacks = [es, TensorBoardColabCallback(tbc)]\n",
        "            )\n",
        "\n",
        "model.save_weights(\"Plant_Classifier.h5\")\n",
        "model.save(\"Plant_Classifier.h5\", True)\n",
        "\n",
        "#score = model.evaluate_generator(test_generator, nb_test_samples // batch_size)\n",
        "#print('Test loss:', score[0])\n",
        "#print('Test accuracy:', score[1])\n",
        "#print('Scode', score)"
      ],
      "execution_count": 0,
      "outputs": [
        {
          "output_type": "stream",
          "text": [
            "Epoch 1/200\n",
            "40/40 [==============================] - 36s 897ms/step - loss: 2.8638 - acc: 0.2468 - val_loss: 2.3623 - val_acc: 0.3740\n",
            "Epoch 2/200\n",
            "40/40 [==============================] - 35s 864ms/step - loss: 2.3143 - acc: 0.3793 - val_loss: 1.8735 - val_acc: 0.4970\n",
            "Epoch 3/200\n",
            "40/40 [==============================] - 35s 868ms/step - loss: 1.8280 - acc: 0.4847 - val_loss: 1.6014 - val_acc: 0.5450\n",
            "Epoch 4/200\n",
            "40/40 [==============================] - 35s 864ms/step - loss: 1.5919 - acc: 0.5437 - val_loss: 1.3062 - val_acc: 0.6140\n",
            "Epoch 5/200\n",
            "40/40 [==============================] - 35s 874ms/step - loss: 1.4187 - acc: 0.5870 - val_loss: 1.3456 - val_acc: 0.6010\n",
            "Epoch 6/200\n",
            "40/40 [==============================] - 35s 880ms/step - loss: 1.3735 - acc: 0.6033 - val_loss: 1.1144 - val_acc: 0.6600\n",
            "Epoch 7/200\n",
            "40/40 [==============================] - 35s 870ms/step - loss: 1.1873 - acc: 0.6432 - val_loss: 0.9735 - val_acc: 0.6840\n",
            "Epoch 8/200\n",
            "40/40 [==============================] - 35s 873ms/step - loss: 1.0943 - acc: 0.6695 - val_loss: 0.8137 - val_acc: 0.7600\n",
            "Epoch 9/200\n",
            "40/40 [==============================] - 35s 877ms/step - loss: 1.1301 - acc: 0.6682 - val_loss: 0.8058 - val_acc: 0.7520\n",
            "Epoch 10/200\n",
            "40/40 [==============================] - 35s 869ms/step - loss: 1.0311 - acc: 0.6797 - val_loss: 0.6654 - val_acc: 0.7976\n",
            "Epoch 11/200\n",
            "40/40 [==============================] - 34s 856ms/step - loss: 0.9898 - acc: 0.6885 - val_loss: 0.6616 - val_acc: 0.8070\n",
            "Epoch 12/200\n",
            "40/40 [==============================] - 35s 873ms/step - loss: 0.9303 - acc: 0.7118 - val_loss: 0.5607 - val_acc: 0.8220\n",
            "Epoch 13/200\n",
            "40/40 [==============================] - 35s 869ms/step - loss: 0.9211 - acc: 0.7182 - val_loss: 0.6406 - val_acc: 0.8060\n",
            "Epoch 14/200\n",
            "40/40 [==============================] - 35s 875ms/step - loss: 0.8297 - acc: 0.7453 - val_loss: 0.5879 - val_acc: 0.8330\n",
            "Epoch 15/200\n",
            "40/40 [==============================] - 35s 872ms/step - loss: 0.8282 - acc: 0.7455 - val_loss: 0.7806 - val_acc: 0.7480\n",
            "Epoch 16/200\n",
            "40/40 [==============================] - 35s 872ms/step - loss: 0.8059 - acc: 0.7540 - val_loss: 0.6718 - val_acc: 0.7820\n",
            "Epoch 17/200\n",
            "40/40 [==============================] - 35s 874ms/step - loss: 0.7760 - acc: 0.7613 - val_loss: 0.5711 - val_acc: 0.8170\n",
            "Epoch 18/200\n",
            "40/40 [==============================] - 35s 866ms/step - loss: 0.7411 - acc: 0.7623 - val_loss: 0.5033 - val_acc: 0.8450\n",
            "Epoch 19/200\n",
            "40/40 [==============================] - 34s 861ms/step - loss: 0.7020 - acc: 0.7790 - val_loss: 0.5122 - val_acc: 0.8350\n",
            "Epoch 20/200\n",
            "40/40 [==============================] - 35s 871ms/step - loss: 0.7668 - acc: 0.7550 - val_loss: 0.6835 - val_acc: 0.7750\n",
            "Epoch 21/200\n",
            "40/40 [==============================] - 35s 866ms/step - loss: 0.6767 - acc: 0.7887 - val_loss: 0.5413 - val_acc: 0.8170\n",
            "Epoch 22/200\n",
            "40/40 [==============================] - 34s 858ms/step - loss: 0.6499 - acc: 0.7941 - val_loss: 0.5043 - val_acc: 0.8330\n",
            "Epoch 23/200\n",
            "40/40 [==============================] - 35s 879ms/step - loss: 0.6637 - acc: 0.7940 - val_loss: 0.5051 - val_acc: 0.8310\n",
            "Epoch 24/200\n",
            "40/40 [==============================] - 34s 862ms/step - loss: 0.6255 - acc: 0.8078 - val_loss: 0.4916 - val_acc: 0.8500\n",
            "Epoch 25/200\n",
            "40/40 [==============================] - 35s 868ms/step - loss: 0.6403 - acc: 0.7987 - val_loss: 0.5213 - val_acc: 0.8240\n",
            "Epoch 26/200\n",
            "40/40 [==============================] - 35s 874ms/step - loss: 0.5816 - acc: 0.8180 - val_loss: 0.4421 - val_acc: 0.8580\n",
            "Epoch 27/200\n",
            "40/40 [==============================] - 35s 874ms/step - loss: 0.5918 - acc: 0.8040 - val_loss: 0.5316 - val_acc: 0.8350\n",
            "Epoch 28/200\n",
            "40/40 [==============================] - 35s 875ms/step - loss: 0.5576 - acc: 0.8218 - val_loss: 0.4040 - val_acc: 0.8730\n",
            "Epoch 29/200\n",
            "40/40 [==============================] - 35s 883ms/step - loss: 0.5658 - acc: 0.8230 - val_loss: 0.4666 - val_acc: 0.8540\n",
            "Epoch 30/200\n",
            "40/40 [==============================] - 35s 866ms/step - loss: 0.5718 - acc: 0.8147 - val_loss: 0.3227 - val_acc: 0.9010\n",
            "Epoch 31/200\n",
            "40/40 [==============================] - 35s 863ms/step - loss: 0.5517 - acc: 0.8242 - val_loss: 0.4615 - val_acc: 0.8490\n",
            "Epoch 32/200\n",
            "40/40 [==============================] - 35s 867ms/step - loss: 0.5432 - acc: 0.8212 - val_loss: 0.3953 - val_acc: 0.8740\n",
            "Epoch 33/200\n",
            "40/40 [==============================] - 34s 854ms/step - loss: 0.5647 - acc: 0.8184 - val_loss: 0.4004 - val_acc: 0.8905\n",
            "Epoch 34/200\n",
            "40/40 [==============================] - 35s 873ms/step - loss: 0.5017 - acc: 0.8432 - val_loss: 0.4525 - val_acc: 0.8470\n",
            "Epoch 35/200\n",
            "40/40 [==============================] - 35s 871ms/step - loss: 0.4634 - acc: 0.8482 - val_loss: 0.3622 - val_acc: 0.8820\n",
            "Epoch 36/200\n",
            "40/40 [==============================] - 35s 875ms/step - loss: 0.4688 - acc: 0.8468 - val_loss: 0.2482 - val_acc: 0.9210\n",
            "Epoch 37/200\n",
            "40/40 [==============================] - 35s 865ms/step - loss: 0.5078 - acc: 0.8387 - val_loss: 0.3302 - val_acc: 0.9010\n",
            "Epoch 38/200\n",
            "40/40 [==============================] - 35s 875ms/step - loss: 0.5139 - acc: 0.8402 - val_loss: 0.3707 - val_acc: 0.8760\n",
            "Epoch 39/200\n",
            "40/40 [==============================] - 35s 877ms/step - loss: 0.4596 - acc: 0.8465 - val_loss: 0.3183 - val_acc: 0.8910\n",
            "Epoch 40/200\n",
            "40/40 [==============================] - 34s 862ms/step - loss: 0.4670 - acc: 0.8548 - val_loss: 0.3365 - val_acc: 0.8990\n",
            "Epoch 41/200\n",
            "40/40 [==============================] - 35s 876ms/step - loss: 0.4342 - acc: 0.8665 - val_loss: 0.2507 - val_acc: 0.9140\n",
            "Epoch 42/200\n",
            "40/40 [==============================] - 35s 886ms/step - loss: 0.5023 - acc: 0.8367 - val_loss: 0.2640 - val_acc: 0.9230\n",
            "Epoch 43/200\n",
            "40/40 [==============================] - 35s 886ms/step - loss: 0.4233 - acc: 0.8618 - val_loss: 0.3744 - val_acc: 0.8860\n",
            "Epoch 44/200\n",
            "40/40 [==============================] - 34s 859ms/step - loss: 0.4581 - acc: 0.8505 - val_loss: 0.4143 - val_acc: 0.8562\n",
            "Epoch 45/200\n",
            "40/40 [==============================] - 35s 883ms/step - loss: 0.4068 - acc: 0.8608 - val_loss: 0.3921 - val_acc: 0.8620\n",
            "Epoch 46/200\n",
            "40/40 [==============================] - 35s 877ms/step - loss: 0.4577 - acc: 0.8522 - val_loss: 0.3303 - val_acc: 0.8920\n"
          ],
          "name": "stdout"
        }
      ]
    },
    {
      "cell_type": "code",
      "metadata": {
        "id": "4poHazT3N8Sp",
        "colab_type": "code",
        "outputId": "68743a2d-f6f2-40f0-9932-2d8be28a9d90",
        "colab": {
          "base_uri": "https://localhost:8080/",
          "height": 72
        }
      },
      "source": [
        "score = model.evaluate_generator(validation_generator, nb_validation_samples// batch_size)\n",
        "print('Test loss:', score[0])\n",
        "print('Test accuracy:', score[1])\n",
        "print('Score', score)"
      ],
      "execution_count": 0,
      "outputs": [
        {
          "output_type": "stream",
          "text": [
            "Test loss: 0.26152691394090655\n",
            "Test accuracy: 0.9130000054836274\n",
            "Score [0.26152691394090655, 0.9130000054836274]\n"
          ],
          "name": "stdout"
        }
      ]
    },
    {
      "cell_type": "code",
      "metadata": {
        "id": "J-EFS_VYjgx0",
        "colab_type": "code",
        "outputId": "8711c291-7e65-4064-8378-3d73a2936ae4",
        "colab": {
          "resources": {
            "http://localhost:8080/nbextensions/google.colab/files.js": {
              "data": "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",
              "ok": true,
              "headers": [
                [
                  "content-type",
                  "application/javascript"
                ]
              ],
              "status": 200,
              "status_text": "OK"
            }
          },
          "base_uri": "https://localhost:8080/",
          "height": 41
        }
      },
      "source": [
        "from google.colab import files\n",
        "uploaded = files.upload()"
      ],
      "execution_count": 0,
      "outputs": [
        {
          "output_type": "display_data",
          "data": {
            "text/html": [
              "\n",
              "     <input type=\"file\" id=\"files-08dc09ee-dd1d-4200-95cd-73658e51cd0f\" name=\"files[]\" multiple disabled />\n",
              "     <output id=\"result-08dc09ee-dd1d-4200-95cd-73658e51cd0f\">\n",
              "      Upload widget is only available when the cell has been executed in the\n",
              "      current browser session. Please rerun this cell to enable.\n",
              "      </output>\n",
              "      <script src=\"/nbextensions/google.colab/files.js\"></script> "
            ],
            "text/plain": [
              "<IPython.core.display.HTML object>"
            ]
          },
          "metadata": {
            "tags": []
          }
        }
      ]
    },
    {
      "cell_type": "code",
      "metadata": {
        "id": "374F1gPSnIfJ",
        "colab_type": "code",
        "colab": {}
      },
      "source": [
        "!ls"
      ],
      "execution_count": 0,
      "outputs": []
    },
    {
      "cell_type": "code",
      "metadata": {
        "id": "oMwPE9TQjDVZ",
        "colab_type": "code",
        "colab": {}
      },
      "source": [
        "def predict_image():\n",
        "# Testing Predicition from Validation Folder\n",
        "  from keras.models import load_model\n",
        "  from keras.preprocessing import image\n",
        "  import numpy as np\n",
        "\n",
        "\n",
        "  test_image = image.load_img('PlantVillage/val/Tomato___Tomato_Yellow_Leaf_Curl_Virus/33533dfd-f34a-46eb-9896-c55b5cb33258___UF.GRC_YLCV_Lab 09469.JPG', target_size=(img_width, img_height, 3))\n",
        "  print(test_image)\n",
        "  test_image = image.img_to_array(test_image)\n",
        "  test_image = np.expand_dims(test_image, axis=0)\n",
        "\n",
        "  print(test_image.shape)\n",
        "  import numpy as np\n",
        "  from keras.preprocessing import image\n",
        "\n",
        "  pred_img_class = model.predict(test_image)\n",
        "\n",
        "  print(type(pred_img_class))\n",
        "  print(pred_img_class)\n",
        "\n",
        "\n",
        "\n",
        "  y_classes = pred_img_class.argmax(axis=-1)\n",
        "  for a, b in label_map.items():\n",
        "    if b == y_classes[0]:\n",
        "      print(a)\n",
        "\n",
        "      print(str(pred_img_class[0,y_classes]*100)+'Percent')"
      ],
      "execution_count": 0,
      "outputs": []
    },
    {
      "cell_type": "code",
      "metadata": {
        "id": "rx0Mbk4MjYik",
        "colab_type": "code",
        "outputId": "3d54b646-277e-4b53-96fc-831bcbbdbd74",
        "colab": {
          "base_uri": "https://localhost:8080/",
          "height": 146
        }
      },
      "source": [
        "predict_image()\n",
        "\n",
        "\n",
        "    "
      ],
      "execution_count": 0,
      "outputs": [
        {
          "output_type": "stream",
          "text": [
            "<PIL.Image.Image image mode=RGB size=150x150 at 0x7FDF2617F780>\n",
            "(1, 150, 150, 3)\n",
            "<class 'numpy.ndarray'>\n",
            "[[0. 0. 0. 0. 0. 0. 0. 0. 0. 0. 0. 0. 0. 0. 0. 0. 0. 0. 0. 0. 0. 0. 0. 0.\n",
            "  0. 0. 0. 0. 0. 0. 0. 0. 0. 0. 0. 1. 0. 0. 0.]]\n",
            "Tomato___Tomato_Yellow_Leaf_Curl_Virus\n",
            "[100.]Percent\n"
          ],
          "name": "stdout"
        }
      ]
    }
  ]
}